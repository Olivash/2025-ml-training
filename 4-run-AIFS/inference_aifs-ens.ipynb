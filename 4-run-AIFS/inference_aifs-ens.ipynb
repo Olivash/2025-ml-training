{
 "cells": [
  {
   "cell_type": "markdown",
   "id": "3a1ca292-ec0c-4b57-8f65-242c3c6f8d0b",
   "metadata": {},
   "source": [
    "# Hands-on: Run the AIFS\n",
    "\n",
    "\n",
    "This notebook describes how to run inference of the AIFS from an existing checkpoint. \n",
    "\n",
    "\n",
    "**Resources:**\n",
    "\n",
    "[anemoi-inference](https://anemoi-inference.readthedocs.io/en/latest/apis/level1.html) package."
   ]
  },
  {
   "cell_type": "markdown",
   "id": "e22937f8-e282-48c6-9f70-5449a64964d9",
   "metadata": {
    "scrolled": true
   },
   "source": [
    "## Install Required Packages and Imports\n",
    "\n",
    "\n",
    "Fastest installation with `uv`. Get `uv` by running: \n",
    "```bash\n",
    "curl -LsSf https://astral.sh/uv/install.sh | sh\n",
    "\n",
    "```\n",
    "Create environment and install required packages:\n",
    "```bash\n",
    "uv venv --python=3.12 \n",
    "source .venv/bin/activate\n",
    "uv pip install anemoi-training anemoi-models anemoi-inference anemoi-datasets torch torchvision\n",
    "```\n",
    "\n",
    "We have already done that for you on the EWC, so you are good to go! "
   ]
  },
  {
   "cell_type": "code",
   "execution_count": null,
   "id": "a2cf5b2a-fa89-4a99-9c6e-9eca83ccdc7b",
   "metadata": {},
   "outputs": [],
   "source": [
    "from pathlib import Path\n",
    "import subprocess\n",
    "import torch\n",
    "import warnings\n",
    "import copy\n",
    "warnings.filterwarnings(\"ignore\", category=UserWarning)\n"
   ]
  },
  {
   "cell_type": "code",
   "execution_count": null,
   "id": "21d92a6b",
   "metadata": {},
   "outputs": [],
   "source": [
    "from anemoi.inference.checkpoint import Checkpoint\n",
    "from anemoi.inference.runners.simple import SimpleRunner\n",
    "from anemoi.inference.outputs.printer import print_state\n",
    "\n",
    "from helpers import find_nearest_point_index"
   ]
  },
  {
   "cell_type": "markdown",
   "id": "cec50a24-f32b-4613-a218-04f48f0affa6",
   "metadata": {},
   "source": [
    "## Investigate the checkpoint\n",
    "\n",
    "For that we first download the checkpoint:"
   ]
  },
  {
   "cell_type": "code",
   "execution_count": null,
   "id": "876b3567",
   "metadata": {},
   "outputs": [],
   "source": [
    "url = \"https://object-store.os-api.cci1.ecmwf.int/ml-tests/test-data/samples/training-course/inference-aifs-o96.ckpt\"\n",
    "ckpt_file = \"../../checkpoints/inference-aifs-o96.ckpt\"\n",
    "\n",
    "# Create the output directory \n",
    "Path(ckpt_file).parent.mkdir(parents=True, exist_ok=True)\n",
    "\n",
    "# Download the checkpoint\n",
    "if not Path(ckpt_file).exists():\n",
    "    process = subprocess.run(\n",
    "        [\"wget\", url, \"-O\", ckpt_file],\n",
    "        capture_output=True,\n",
    "        text=True\n",
    "    )\n",
    "    print(process.stdout)\n",
    "    print(process.stderr)\n",
    "else:\n",
    "    print(f\"Checkpoint already exists in {ckpt_file}\")\n"
   ]
  },
  {
   "cell_type": "markdown",
   "id": "c286acb9",
   "metadata": {},
   "source": [
    "The checkpoint contains all the relevant information about the model and the required input."
   ]
  },
  {
   "cell_type": "code",
   "execution_count": null,
   "id": "8ac40442",
   "metadata": {},
   "outputs": [],
   "source": [
    "print(\"Loading checkpoint...\")\n",
    "ckpt = Checkpoint(ckpt_file)\n",
    "\n",
    "# Variables used during training:\n",
    "print(\"Number of variables:\", len(ckpt.variable_categories()))\n",
    "print(f\"Diagnostic variables: {ckpt.diagnostic_variables}\")\n",
    "print(f\"Prognostic variables: {ckpt.prognostic_variables}\")"
   ]
  },
  {
   "cell_type": "markdown",
   "id": "a11eb94b",
   "metadata": {},
   "source": [
    "The model architecture"
   ]
  },
  {
   "cell_type": "code",
   "execution_count": null,
   "id": "11d238ef",
   "metadata": {},
   "outputs": [],
   "source": [
    "model = torch.load(ckpt.path, weights_only=False)\n",
    "model"
   ]
  },
  {
   "cell_type": "code",
   "execution_count": null,
   "id": "bce960d6",
   "metadata": {},
   "outputs": [],
   "source": [
    "print(f\"Number of weights: {sum(p.numel() for p in model.parameters() if p.requires_grad)}\")"
   ]
  },
  {
   "cell_type": "markdown",
   "id": "cb86f951-753e-44a1-b415-796db9ca7dde",
   "metadata": {},
   "source": [
    "## Get initial conditions\n",
    "\n",
    "\n",
    "Running the model for inference requires initial conditions. We retrieve Initial Conditions from ECMWF Open Data.\n",
    "\n",
    "\n"
   ]
  },
  {
   "cell_type": "code",
   "execution_count": null,
   "id": "3456f2f0-a64e-4411-b1a2-7da60e5f74c0",
   "metadata": {},
   "outputs": [],
   "source": [
    "import datetime\n",
    "from collections import defaultdict\n",
    "from pathlib import Path\n",
    "\n",
    "import numpy as np\n",
    "import earthkit.data as ekd\n",
    "import earthkit.regrid as ekr\n",
    "\n",
    "from ecmwf.opendata import Client as OpendataClient\n",
    "from helpers import load_saved_state, save_state"
   ]
  },
  {
   "cell_type": "code",
   "execution_count": null,
   "id": "a6cdc784-68cb-4e27-b52a-36e82d994e2f",
   "metadata": {},
   "outputs": [],
   "source": [
    "R = 6371.0  # Earth radius in km\n",
    "GRID_RESOLUTION = \"O96\"\n",
    "PARAM_SFC = [\"10u\", \"10v\", \"2d\", \"2t\", \"msl\", \"skt\", \"sp\", \"tcw\", \"lsm\", \"z\", \"slor\", \"sdor\"]\n",
    "PARAM_PL = [\"gh\", \"t\", \"u\", \"v\", \"w\", \"q\"]\n",
    "LEVELS = [1000, 925, 850, 700, 600, 500, 400, 300, 250, 200, 150, 100, 50]\n",
    "\n",
    "DATE = OpendataClient().latest()\n",
    "print(\"Initial date is\", DATE)"
   ]
  },
  {
   "cell_type": "code",
   "execution_count": null,
   "id": "062a8a99-ddb0-43e9-aa28-5b1f926ed8a2",
   "metadata": {},
   "outputs": [],
   "source": [
    "def get_open_data(param, levelist=[], reference_date=DATE):\n",
    "    fields = defaultdict(list)\n",
    "    # Get the data for the current date and the previous date\n",
    "    for date in [reference_date - datetime.timedelta(hours=6), reference_date]:\n",
    "        data = ekd.from_source(\"ecmwf-open-data\", date=date, param=param, levelist=levelist)\n",
    "        for f in data:\n",
    "            # Open data is between -180 and 180, we need to shift it to 0-360\n",
    "            assert f.to_numpy().shape == (721, 1440)\n",
    "            values = np.roll(f.to_numpy(), -f.shape[1] // 2, axis=1)\n",
    "            # Interpolate the data to from 0.25 to grid\n",
    "            values = ekr.interpolate(values, {\"grid\": (0.25, 0.25)}, {\"grid\": GRID_RESOLUTION})\n",
    "            # Add the values to the list\n",
    "            name = f\"{f.metadata('param')}_{f.metadata('levelist')}\" if levelist else f.metadata(\"param\")\n",
    "            fields[name].append(values)\n",
    "\n",
    "    # Create a single matrix for each parameter\n",
    "    for param, values in fields.items():\n",
    "        fields[param] = np.stack(values)\n",
    "\n",
    "    return fields"
   ]
  },
  {
   "cell_type": "markdown",
   "id": "6d2b0711-f477-48a6-afaf-99fab48b7024",
   "metadata": {},
   "source": [
    "Here we make a single forecast, from the control initial condition of the ensemble. In operations, this model is run 51 times, once from the control and 50 more times from slightly different initial conditions. \n",
    "\n",
    "To get different ensemble initial conditions from the ifs pertubation, set `number` to an ensemble number, between 1-50.\n"
   ]
  },
  {
   "cell_type": "code",
   "execution_count": null,
   "id": "bf5c28a0",
   "metadata": {},
   "outputs": [],
   "source": [
    "file = Path(f\"inputstate-{GRID_RESOLUTION}-{DATE.strftime('%Y%m%d_%H')}.npz\")\n",
    "if file.exists():\n",
    "    input_state = load_saved_state(file)\n",
    "    print(f\"Input state loaded from file {file}\")\n",
    "else:\n",
    "    fields = {}\n",
    "    # Surface fields\n",
    "    fields.update(get_open_data(param=PARAM_SFC, reference_date=DATE))\n",
    "    # Pressure levels fields\n",
    "    fields.update(get_open_data(param=PARAM_PL, levelist=LEVELS, reference_date=DATE))\n",
    "\n",
    "    # Convert geopotential height into geopotential\n",
    "    for level in LEVELS:\n",
    "        gh = fields.pop(f\"gh_{level}\")\n",
    "        fields[f\"z_{level}\"] = gh * 9.80665\n",
    "    \n",
    "    input_state = dict(date=DATE, fields=fields)\n",
    "\n",
    "    print(f\"State created for date {DATE}\")\n",
    "    save_state(input_state, file)\n",
    "\n",
    "    print(f\"State saved to file {file}\")"
   ]
  },
  {
   "cell_type": "markdown",
   "id": "31038ce0-b394-4459-8c9b-548ededae46d",
   "metadata": {},
   "source": [
    "## Run inference from initial conditions"
   ]
  },
  {
   "cell_type": "code",
   "execution_count": null,
   "id": "e16927f5-5248-416f-b9a2-dfcd165bd8eb",
   "metadata": {},
   "outputs": [],
   "source": [
    "runner = SimpleRunner(ckpt_file, device=\"cuda\")"
   ]
  },
  {
   "cell_type": "code",
   "execution_count": null,
   "id": "46ee6f72-940c-417b-8d30-970251647a58",
   "metadata": {},
   "outputs": [],
   "source": [
    "LEAD_TIME = 48"
   ]
  },
  {
   "cell_type": "markdown",
   "id": "6c9c95df-72bb-4338-8ea2-119fd6c04daf",
   "metadata": {},
   "source": [
    "### Run the forecast\n",
    "\n"
   ]
  },
  {
   "cell_type": "code",
   "execution_count": null,
   "id": "6d55b034-c9c7-4fff-91ec-cb19c7483981",
   "metadata": {},
   "outputs": [],
   "source": [
    "ens_members = 1 # This will become important tomorrow\n",
    "forecast_states = [[] for nn in range(ens_members)]\n",
    "for nn in range(ens_members):\n",
    "    for step, state in enumerate(runner.run(input_state=input_state, lead_time=LEAD_TIME)):\n",
    "        print(f\"Step {step}: {state['date']} (lead time: {state['step']})\")\n",
    "        print(f\"  Available fields: {list(state['fields'].keys())}\")\n",
    "        # Store the state if you want to keep it\n",
    "        forecast_states[nn].append(copy.deepcopy(state))\n",
    "\n",
    "print(f\"Forecast completed! Generated {len(forecast_states)} time steps.\")"
   ]
  },
  {
   "cell_type": "code",
   "execution_count": null,
   "id": "289b857f-613d-4e16-abb1-457c40c82960",
   "metadata": {},
   "outputs": [],
   "source": [
    "print(f\"Predicted dates: {list(forecast_states[0][x]['date'].strftime('%Y-%m-%dT%H') for x in range(len(forecast_states[0])))}\")"
   ]
  },
  {
   "cell_type": "markdown",
   "id": "f61612f5-b99a-44b4-85b7-72ca9c4544df",
   "metadata": {},
   "source": [
    "# 4. Inspect the generated forecast\n",
    "\n",
    "### Plot a field"
   ]
  },
  {
   "cell_type": "code",
   "execution_count": null,
   "id": "43d913df-384b-4afe-b279-73c3cf9ee183",
   "metadata": {},
   "outputs": [],
   "source": [
    "import matplotlib.pyplot as plt\n",
    "import cartopy.crs as ccrs\n",
    "import cartopy.feature as cfeature\n",
    "import matplotlib.tri as tri"
   ]
  },
  {
   "cell_type": "code",
   "execution_count": null,
   "id": "c21883c3-1076-4849-8474-2a8ebac1165f",
   "metadata": {},
   "outputs": [],
   "source": [
    "def fix(lons):\n",
    "    # Shift the longitudes from 0-360 to -180-180\n",
    "    return np.where(lons > 180, lons - 360, lons)\n",
    "\n",
    "# pick a state of the first ensemble members\n",
    "variable = \"10u\"\n",
    "state = forecast_states[0][-1]\n",
    "date = state['date']\n",
    "latitudes = state[\"latitudes\"]\n",
    "longitudes = fix(state[\"longitudes\"])\n",
    "values = state[\"fields\"][variable]"
   ]
  },
  {
   "cell_type": "code",
   "execution_count": null,
   "id": "dcacb342-93a3-4279-99a4-8a709cb7e287",
   "metadata": {},
   "outputs": [],
   "source": [
    "fig, ax = plt.subplots(figsize=(11, 6), subplot_kw={\"projection\": ccrs.PlateCarree()})\n",
    "ax.coastlines()\n",
    "ax.add_feature(cfeature.BORDERS, linestyle=\":\")\n",
    "\n",
    "triangulation = tri.Triangulation(fix(longitudes), latitudes)\n",
    "\n",
    "contour=ax.tricontourf(triangulation, values, levels=20, transform=ccrs.PlateCarree(), cmap=\"RdBu\")\n",
    "cbar = fig.colorbar(contour, ax=ax, orientation=\"vertical\", shrink=0.7, label=\"10u\")\n",
    "\n",
    "plt.title(\"{} at {}\".format(variable, state[\"date\"]))\n",
    "plt.show()\n"
   ]
  },
  {
   "cell_type": "code",
   "execution_count": null,
   "id": "5ee320a4-10f4-4e8a-8a37-8357f389c917",
   "metadata": {},
   "outputs": [],
   "source": [
    "fig, ax = plt.subplots(figsize=(11, 6), subplot_kw={\"projection\": ccrs.PlateCarree()})\n",
    "ax.coastlines()\n",
    "ax.add_feature(cfeature.BORDERS, linestyle=\":\")\n",
    "\n",
    "# Limit the map to Europe\n",
    "ax.set_extent([-25, 45, 34, 72], crs=ccrs.PlateCarree())\n",
    "\n",
    "triangulation = tri.Triangulation(fix(longitudes), latitudes)\n",
    "\n",
    "contour=ax.tricontourf(triangulation, values, levels=20, transform=ccrs.PlateCarree(), cmap=\"RdBu\")\n",
    "cbar = fig.colorbar(contour, ax=ax, orientation=\"vertical\", shrink=0.7, label=\"10u\")\n",
    "\n",
    "plt.title(\"{} at {}\".format(variable, state[\"date\"]))\n",
    "plt.show()"
   ]
  },
  {
   "cell_type": "markdown",
   "id": "08a156eb-2e75-47ff-a9d1-2a74a37384b9",
   "metadata": {},
   "source": [
    "### Task 4.1: Plot the 2m temperature forecasts for the weekend?\n",
    "\n",
    "The forecast is already calculated. Just make sure to select the correct state from the list and select the wanted parameter. The legend must be edited manually. Feel free to convert from Kelvin to Celcius."
   ]
  },
  {
   "cell_type": "code",
   "execution_count": null,
   "id": "be9bf518-b610-4622-bd9a-6efda2ab4c6c",
   "metadata": {},
   "outputs": [],
   "source": []
  },
  {
   "cell_type": "markdown",
   "id": "17455bba-a981-4963-a692-5bde13f321d8",
   "metadata": {},
   "source": [
    "### Plot a forecast time-series "
   ]
  },
  {
   "cell_type": "code",
   "execution_count": null,
   "id": "5852999e-7efc-4655-bc70-038238f05905",
   "metadata": {},
   "outputs": [],
   "source": [
    "import matplotlib.pyplot as plt\n",
    "import numpy as np\n",
    "import pandas as pd\n",
    "\n",
    "lat_target = 51.45\n",
    "lon_target = -0.98\n",
    "idx_nearest = find_nearest_point_index(latitudes, longitudes, lat_target, lon_target)\n",
    "\n",
    "lead_times = range(len(forecast_states[0]))\n",
    "n_members = 1  # This will become important tomorrow\n",
    "\n",
    "# Extract field for all members and times\n",
    "values = np.array([\n",
    "    [forecast_states[m][t][\"fields\"][variable][idx_nearest] for t in lead_times]\n",
    "    for m in range(n_members)\n",
    "])\n",
    "\n",
    "# Time axis\n",
    "times = [forecast_states[0][t][\"date\"] for t in lead_times]\n",
    "times = pd.to_datetime(times)\n",
    "\n",
    "# Plot\n",
    "plt.figure(figsize=(10, 5))\n",
    "\n",
    "for m in range(n_members):\n",
    "    plt.plot(times, values[m, :], linewidth=2, label=f\"Member {m+1}\")\n",
    "\n",
    "plt.title(f\"{variable} forecast at lat={latitudes[idx_nearest]}, lon={longitudes[idx_nearest]}\")\n",
    "plt.xlabel(\"Time\")\n",
    "plt.ylabel(variable)\n",
    "plt.legend()\n",
    "plt.grid(True)\n",
    "plt.tight_layout()\n",
    "plt.show()"
   ]
  },
  {
   "cell_type": "markdown",
   "id": "01819963-9ea6-4501-9761-b4af3add8a45",
   "metadata": {},
   "source": [
    "### Task 4.2: Plot a 2m temperature forecast for the location of your city?\n",
    "\n",
    "We have provided an example for the Reading, UK. Change to the location of the city you live in and and select the wanted parameter. \n",
    "\n",
    "Extra task: Try to calculate the forecast for more than 48 hours to have an idea of how warm it is going to be next week."
   ]
  },
  {
   "cell_type": "code",
   "execution_count": null,
   "id": "ac8dab47-4646-4337-bdfd-46a91be85f41",
   "metadata": {},
   "outputs": [],
   "source": []
  },
  {
   "cell_type": "markdown",
   "id": "685a420a-2f81-497e-baa8-42ee715f96f2",
   "metadata": {},
   "source": [
    "### Task 5: Explore out of sample data in the initial conditions\n",
    "\n",
    "We have provided a way to get data which matches what the model was trained for, explore what happens if the data is incorrect "
   ]
  },
  {
   "cell_type": "code",
   "execution_count": null,
   "id": "d1b2ab5e-7355-4a65-8a84-290f13d9ecb6",
   "metadata": {},
   "outputs": [],
   "source": []
  }
 ],
 "metadata": {
  "kernelspec": {
   "display_name": ".venv",
   "language": "python",
   "name": "python3"
  },
  "language_info": {
   "codemirror_mode": {
    "name": "ipython",
    "version": 3
   },
   "file_extension": ".py",
   "mimetype": "text/x-python",
   "name": "python",
   "nbconvert_exporter": "python",
   "pygments_lexer": "ipython3",
   "version": "3.12.11"
  },
  "license": "Apache-2.0"
 },
 "nbformat": 4,
 "nbformat_minor": 5
}
